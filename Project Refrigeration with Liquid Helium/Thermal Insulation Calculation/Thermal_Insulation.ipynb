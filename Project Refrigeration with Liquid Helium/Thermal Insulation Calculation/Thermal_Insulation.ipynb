{
 "cells": [
  {
   "cell_type": "code",
   "execution_count": 4,
   "metadata": {
    "collapsed": false
   },
   "outputs": [
    {
     "ename": "SyntaxError",
     "evalue": "invalid syntax (<ipython-input-4-f55ee15b2422>, line 1)",
     "output_type": "error",
     "traceback": [
      "\u001b[1;36m  File \u001b[1;32m\"<ipython-input-4-f55ee15b2422>\"\u001b[1;36m, line \u001b[1;32m1\u001b[0m\n\u001b[1;33m    <img src=\"images/utfsm.png\" alt=\"\" width=\"100px\" align=\"right\"/>\u001b[0m\n\u001b[1;37m    ^\u001b[0m\n\u001b[1;31mSyntaxError\u001b[0m\u001b[1;31m:\u001b[0m invalid syntax\n"
     ]
    }
   ],
   "source": [
    "<img src=\"images/utfsm.png\" alt=\"\" width=\"100px\" align=\"right\"/>\n",
    "# CCTVal_Introduction CFD"
   ]
  },
  {
   "cell_type": "markdown",
   "metadata": {},
   "source": [
    "## Licencia y configuración del laboratorio\n",
    "Ejecutar la siguiente celda mediante *`Ctr-S`*."
   ]
  },
  {
   "cell_type": "code",
   "execution_count": 5,
   "metadata": {
    "collapsed": false
   },
   "outputs": [
    {
     "ename": "ValueError",
     "evalue": "empty mode string",
     "output_type": "error",
     "traceback": [
      "\u001b[1;31m---------------------------------------------------------------------------\u001b[0m",
      "\u001b[1;31mValueError\u001b[0m                                Traceback (most recent call last)",
      "\u001b[1;32m<ipython-input-5-dba81ddf2d67>\u001b[0m in \u001b[0;36m<module>\u001b[1;34m()\u001b[0m\n\u001b[0;32m     12\u001b[0m \u001b[1;31m# Configuración de estilo\u001b[0m\u001b[1;33m\u001b[0m\u001b[1;33m\u001b[0m\u001b[0m\n\u001b[0;32m     13\u001b[0m \u001b[1;32mfrom\u001b[0m \u001b[0mIPython\u001b[0m\u001b[1;33m.\u001b[0m\u001b[0mcore\u001b[0m\u001b[1;33m.\u001b[0m\u001b[0mdisplay\u001b[0m \u001b[1;32mimport\u001b[0m \u001b[0mHTML\u001b[0m\u001b[1;33m\u001b[0m\u001b[0m\n\u001b[1;32m---> 14\u001b[1;33m \u001b[0mHTML\u001b[0m\u001b[1;33m(\u001b[0m\u001b[0mopen\u001b[0m\u001b[1;33m(\u001b[0m\u001b[1;34m\"./style/style.css\"\u001b[0m\u001b[1;33m,\u001b[0m \u001b[1;34m\"\"\u001b[0m\u001b[1;33m)\u001b[0m\u001b[1;33m.\u001b[0m\u001b[0mread\u001b[0m\u001b[1;33m(\u001b[0m\u001b[1;33m)\u001b[0m\u001b[1;33m)\u001b[0m\u001b[1;33m\u001b[0m\u001b[0m\n\u001b[0m",
      "\u001b[1;31mValueError\u001b[0m: empty mode string"
     ]
    }
   ],
   "source": [
    "\"\"\"\n",
    "IPython Notebook v4.0 para python 3.0\n",
    "Pablo Bunout.\n",
    "\"\"\"\n",
    "# Configuración para recargar módulos y librerías dinámicamente\n",
    "%reload_ext autoreload\n",
    "%autoreload 2\n",
    "\n",
    "# Configuración para graficos en línea\n",
    "%matplotlib inline\n",
    "\n",
    "# Configuración de estilo\n",
    "from IPython.core.display import HTML\n",
    "HTML(open(\"./style/style.css\", \"\").read())"
   ]
  },
  {
   "cell_type": "markdown",
   "metadata": {},
   "source": [
    "## Introducción "
   ]
  },
  {
   "cell_type": "markdown",
   "metadata": {},
   "source": [
    "En el presente trabajo se propone realizar un estudio de como es afectada una placa de material solido definido, al ser expuesta bajo distintas condiciones térmicas y dinámicas, propias de un fluido circundante. Nos interesa la placa en el contexto de ser útilizada como aleta disipadora de calor en un sistema mecánico, por transferencia convectiva, y con ello poder concluir de forma óptima el material y dimensionamiento geométrico que más favorece a este hecho."
   ]
  },
  {
   "cell_type": "markdown",
   "metadata": {},
   "source": [
    "## Objetivos"
   ]
  },
  {
   "cell_type": "markdown",
   "metadata": {},
   "source": [
    "1. Marco Teórico\n",
    "2. Problema EDP\n",
    "3. Sincronización de repositorio local y remoto\n",
    "4. Clonar directamente un repositorio remoto en un directorio de trabajo local\n",
    "5. Operaciones para repositorios remotos con más de un usuario\n",
    "6. Ejercicio de práctica\n"
   ]
  },
  {
   "cell_type": "markdown",
   "metadata": {},
   "source": [
    "## 1. Marco Teórico\n"
   ]
  },
  {
   "cell_type": "markdown",
   "metadata": {},
   "source": [
    "### Ley de Conservación de Energía\n",
    "Consideraremos la Ecuación de Conservación de Energía para un medio continuo sólido, siendo una ley definida por el flujo de energía que atraviesa la superficie de la región que encierra al medio, la variación de energía interna en un tiempo dado, dentro del volumen delimitado por dicha superficie y las fuentes de generación o pérdida de energía dentro del mismo volumen. Matemáticamente esta ley de conservación puede escribirse como una ecuación integral de la siguiente manera.\n",
    "\n",
    "\\begin{equation}\n",
    "\\int \\frac{\\partial u}{\\partial t}dV + \\int \\dot{q}_{gen}dV = -\\oint \\dot{q}\\cdot \\vec{n}dS \n",
    "\\end{equation}\n",
    "\n",
    "Se define la densidad volumétrica de la energía interna de la región evaluada como $\\delta u = \\rho c_{p}\\delta T$, donde $\\rho$ es la densidad de masa por unidad de volumen y $c_{p}$ es la capacidad calorífica a presión constante, siendo la energía necesaria para que el medio varíe una unidad en grados de su temperatura.\n",
    "\n",
    "El flujo de calor está dado por la ley de Fourier de conducción que se define como $\\dot{q} = -k\\nabla  T$, donde $k$ es la conductividad térmica del medio. Si un medio tiene mayor conductividad que otro, para conducir un mismo flujo de calor, entonces su gradiente de temperaturas $\\nabla  T$ será menor que el medio con una conductividad más pequeña.\n",
    "\n",
    "Finalmente las fuentes de generación o pérdida de energía por unidad de volumen se describen por el término $ \\dot{q}_{gen}$, pudiendo ser una fuente de radiación que genera calor en el medio.\n",
    "\n",
    "#### Ecuación Diferencial Parcial del Calor\n",
    "Para expresar la ecuación en una forma útil, debemos primero definir una variable de trabajo con la que se pueda describir y analizar el fenómeno. Definiendo la temperatura $T$ como variable de trabajo. Además utilizaremos el teorema de la divergencia para transformar la integral de superficie en una integral de volumen.\n",
    "\n",
    "\\begin{equation}\n",
    "\\oint \\dot{q}\\cdot \\vec{n}dS = \\int \\nabla \\cdot \\dot{q}dV\n",
    "\\end{equation}\n",
    "\n",
    "Reemplazando el flujo de calor por la ley de Fourier, la densidad volumétrica de energía interna en la ecuación obtenemos lo siguiente.\n",
    "\n",
    "\\begin{equation}\n",
    "\\int (\\rho c_{p} \\frac{\\partial T}{\\partial t} - k \\nabla^{2}T-\\dot{q}_{gen}) dV = 0  \n",
    "\\end{equation}\n",
    "\n",
    "La expresión anterior corresponde al caso en que la conductividad térmica es homogénea en todo el dominio, al igual que la densidad de masa y el coeficiente de calor específico, lo que permite agrupar los términos en una sola integral de volumen.\n",
    "\n",
    "Debido a que la integral no es más que una suma de cantidades para pequeños volúmenes diferenciales, basta con que el integrando de esta sea nulo en cada volumen diferencial para satisfacer la ecuación de conservación de energía, siendo a partir de esta idea con la que obtenemos la Ecuación Diferencial Parcial del Calor. \n",
    "\n",
    "\\begin{equation}\n",
    "\\frac{1}{\\alpha} \\frac{\\partial T}{\\partial t} = \\nabla^{2}T + \\frac{\\dot{q}_{gen}}{k} \n",
    "\\end{equation}\n",
    "\n",
    "\n",
    "Al dividir ambos lados de la ecuación por la conductividad térmica, obtenemos una nueva constante, $\\alpha = \\frac{k}{\\rho c_{p}}$. En coordenadas cartesianas la EDP se escribe de la siguiente manera.\n",
    "\n",
    "\\begin{equation}\n",
    "\\frac{\\partial^2 T}{\\partial x^2}+\\frac{\\partial^2 T}{\\partial y^2}+\\frac{\\partial^2 T}{\\partial z^2}+\\frac{\\dot{q}_{gen}}{k}=\\frac{1}{\\alpha}\\frac{\\partial T}{\\partial t}\n",
    "\\end{equation}\n"
   ]
  },
  {
   "cell_type": "markdown",
   "metadata": {},
   "source": [
    "### Problema Bien Condicionado\n",
    "Para que una Ecuación Diferencial Parcial tenga solución única, debe cumplir con ciertas condiciones necesarias. Estas han sido establecidas de múltiples formas mediante diversos teoremas de existencia y unicidad, siendo uno de los más conocidos el Teorema de Picard. En palabras sencillas la existencia y unicidad de la solución a la EDP, dependerá de las condiciones que tengamos tanto para la distribución inicial de la variable incógnita, cuando en la ecuación consideramos la variación temporal de esta, y las condiciones de frontera para cada dimensión espacial.\n",
    "\n",
    "En el caso de la Ecuación del Calor, constatamos que la temperatura, variable incógnita, varía linealmente con el tiempo y en segundo grado con cada coordenada, por lo que necesitamos 1 condición temporal, conocida como condición inicial y 2 condiciones de frontera por cada coordenada espacial.\n",
    "\n",
    "#### Condición Inicial \n",
    "Consiste en conocer la distribución de temperaturas en todo el dominio establecido, para un tiempo inicial de referencia. Dicho de otro modo, debemos conocer el valor del campo de temperatura en todo el medio sólido.\n",
    "\n",
    "\\begin{equation}\n",
    "T(x,y,z,0)=f(x,y,z)\n",
    "\\end{equation}\n",
    "\n",
    "#### Condición de Frontera tipo Dirichlet\n",
    "Consiste en tener una distribución conocida de la variable incógnita en alguna frontera establecida. Por ejemplo podría ser la distribución de temperaturas en los extremos del dominio para la coordenada $x$, siendo $g(y,z,t)$  y $h(y,z,t)$ funciones cuyos valores se encuentran definidos.\n",
    "\n",
    "\\begin{equation}\n",
    "T(0,y,z,t)=g(y,z,t)\n",
    "\\end{equation}\n",
    "\n",
    "\\begin{equation}\n",
    "T(L,y,z,t)=h(y,z,t)\n",
    "\\end{equation}\n",
    "\n",
    "\n",
    "#### Condición de Frontera tipo Neumann \n",
    "Consiste en conocer la variación de la variable incógnita respecto a alguna coordenada, en alguna frontera establecida. En nuestro caso, al considerar los extremos del dominio correspondientes a la coordenada $x$, la variación de temperaturas, físicamente coincide con el flujo de calor conducido, esto último puede verificarse con la Ley de Conducción de Fourier. \n",
    "\n",
    "De esta manera podemos interpretar una variedad de contextos físicos para un fenómeno térmico, como por ej. el caso de una pared aislada, en que el flujo de calor conducido atravez de ella es nulo.\n",
    "\n",
    "Una superficie expuesta a transferencia por convección en un medio circundante, radiación térmica o incluso un flujo de calor conocido, proveniente de un cuerpo externo en contacto con la superficie de interes. En resumen, se puede escribir matemáticamente como sigue.\n",
    "\n",
    "\\begin{equation}\n",
    "\\frac{\\partial T(0,y,z,t)}{\\partial x}=g'(y,z,t)\n",
    "\\end{equation}\n",
    "\n",
    "\\begin{equation}\n",
    "\\frac{\\partial T(L,y,z,t)}{\\partial x}=h'(y,z,t)\n",
    "\\end{equation}\n",
    "\n",
    "Por último debemos establecer las condiciones particulares de nuestro problema. En lo referente a las condiciones de borde, consideraremos una dominio rectangular en 3 dimensiones, que significara la placa. En una superficie tendremos un flujo de calor entrante definido $\\dot{q}_{in}$ y en las superficies o fronteras restantes consideraremos que la placa se expone a un flujo de calor debido a la convección $\\dot{q}_{conv}$, surgida del contacto con el fluido circundante. \n",
    "\n",
    "Sabemos de la Ley de Enfriamiento de Newton que el flujo de calor, producto del contacto entre una superficie sólida y un fluido puede modelarse a partir de una relación lienal con la diferencia de temperaturas entre la superficie $T_{pared}$ y la temperatura del fluido libre $T_{\\infty}$, considerado como aquel que se encuentra fuera de la capa límite térmica, zona en la cual los efectos de la transferencia de calor hacia el fluido no son despreciables. Esto es posible mediante el uso de una constante denominda como *coeficiente de convección* $h_{conv}$, el cual es posible obtener de manera experimental y que dependera tanto de las propiedes del fluido como de las condiciones dinámicas de este.\n",
    "\n",
    "\\begin{equation}\n",
    "\\dot{q}_{conv} = h_{conv}\\Delta T\n",
    "\\end{equation}\n",
    "\n",
    "\\begin{equation}\n",
    "\\Delta T = (T_{pared}-T_{\\infty})\n",
    "\\end{equation}"
   ]
  },
  {
   "cell_type": "markdown",
   "metadata": {},
   "source": [
    "## 2. Metodos Numérica para Discretización de EDP "
   ]
  },
  {
   "cell_type": "markdown",
   "metadata": {},
   "source": [
    "Debido a la flexibilidad que nos permite un tratamiento numérico del problema, en cuanto a la manipulación de parametros y condciones de borde empleadas para diferentes casos, es que nos interesa desarrollar este último por sobre el desarrollo necesario para la obtención de una solución analítica, exclusiva y útil únicamente para condiciones de frontera establecidas, pudiendo cambiar drásticamente su forma en la medida que modificamos dichas condiciones.\n",
    "\n",
    "Para esto consideraremos un dominio discretizado en nodos separados por una distancia definida previamente, lo que imposibilita la obtención de una función continua como solución del problema y de igual forma ya no será posible considerar sus respectivas derivadas como elementos continuos. Es por esto que nos vemos en la necesidad de discretizar dichos términos, debido a que como vimos en la ecuación de energía, tienen un papel relevante en el fenómeno.\n",
    "\n",
    "\\begin{equation}\n",
    "\\frac{\\partial^2 T}{\\partial x^2}+\\frac{\\partial^2 T}{\\partial y^2}+\\frac{\\partial^2 T}{\\partial z^2}=\\frac{1}{\\alpha}\\frac{\\partial T}{\\partial t}\n",
    "\\end{equation}\n",
    "\n",
    "### Método de Diferencias Finitas\n",
    "Se utilizaran diferencias finitas para aproximar los términos de primeras y segundas derivadas de la ecuación de calor, basándonos en las expansiones en series de Taylor de cada término.\n",
    "La aproximación de la primera derivada en desarrollo de Taylor es el siguiente.\n",
    "\n",
    "\\begin{equation}\n",
    "T(x+\\Delta x)=T(x)+\\frac{\\partial T}{\\partial x}\\Delta x+\\frac{1}{2!}\\frac{\\partial^2 T}{\\partial x^2}\\Delta x^{2}+\\frac{1}{3!}\\frac{\\partial^3 T}{\\partial x^3}\\Delta x^{3}+\\cdots \n",
    "\\end{equation}\n",
    "\n",
    "\\begin{equation}\n",
    "T(x+\\Delta x)=T(x)-\\frac{\\partial T}{\\partial x}\\Delta x+\\frac{1}{2!}\\frac{\\partial^2 T}{\\partial x^2}\\Delta x^{2}-\\frac{1}{3!}\\frac{\\partial^3 T}{\\partial x^3}\\Delta x^{3}+\\cdots \n",
    "\\end{equation}\n",
    "\n",
    "Para aproximar la primera derivada del campo de temperaturas a partir de diferencias centradas, es necesario restar ambas ecuaciones y tras algunas manipulaciones para despejar el término de interes obtenemos lo siguiente.\n",
    "\n",
    "\\begin{equation}\n",
    "\\frac{\\partial T}{\\partial x} = \\frac{T(x+\\Delta x)-T(x-\\Delta x)}{2\\Delta x}+\\frac{1}{3!}\\frac{\\partial^3 T}{\\partial x^3}\\Delta x^{3}+\\cdots \n",
    "\\end{equation}\n",
    "\n",
    "La aproximación consiste en cambiar la serie infinita de Taylor de la derivada respecitva, por un polinomio o serie finita. Esto conduce a omitir términos de mayor orden de la serie, siendo estos los que componen el denominado error de truncamiento de la aproximación. Para el presente caso, este término es de orden 3 y se encuentra multiplicado por la cantidad $\\Delta x^{3}$. En la práctica nos interesa saber cual es la magnitud más pequeña posible del error de truncamiento, quedando acotado por un mínimo, siendo este el valor del término de menor orden, evaluado en el punto. Lo anterior se debe a que al tener por referencia un valor mínimo para el error de truncamiento, aseguramos que nuestros resultados cumplan con cierta presición deseada, en caso de que los errores obtenidos se encuentren por debajo de la cota mínima establecida.\n",
    "\n",
    "\\begin{equation}\n",
    "\\frac{\\partial T}{\\partial x} \\approx \\frac{T(x+\\Delta x)-T(x-\\Delta x)}{2\\Delta x}\n",
    "\\end{equation}\n",
    "\n",
    "\\begin{equation}\n",
    "error_{t} \\approx \\frac{1}{3!}\\frac{\\partial^3 T}{\\partial x^3}\\Delta x^{2}\n",
    "\\end{equation}\n",
    "\n",
    "Para la aproximación de las derivadas de segundo orden, surgidas del Laplaciano de la ecuación del calor, realizamos un desarrollo análogo al establecido para las diferencias centradas de 1er orden, con la salvedad de que en vez de restar las ecuaciones, sumaremos estas y deberemos considerar la expanción de Taylor, en ambos casos, hasta las derivadas de 4to orden. Una vez hecho esto, al despejar la 2da derivada obtenemos lo siguiente.\n",
    "\n",
    "\\begin{equation}\n",
    "\\frac{\\partial^2 T}{\\partial x^2} \\approx \\frac{T(x+\\Delta x) - 2T(x)  + T(x-\\Delta x)}{\\Delta x^{2}}\n",
    "\\end{equation}\n",
    "\n",
    "\\begin{equation}\n",
    "error_{t} \\approx \\frac{1}{12}\\frac{\\partial^4 T}{\\partial x^4}\\Delta x^{2}\n",
    "\\end{equation}\n",
    "\n",
    "Para el caso de la derivada temporal de primer orden, descretizamremos de forma explícita o implíta según lo establecido. En el caso explícito, al desarrolar el polinómio de Taylor hasta el término de 2do orden y despejando la derivada de interés obtenemos:\n",
    "\n",
    "\\begin{equation}\n",
    "\\frac{\\partial T(t+\\Delta t)}{\\partial t} \\approx \\frac{T(t+\\Delta t)-T(t)}{ \\Delta t}\n",
    "\\end{equation}\n",
    "\n",
    "Otro aspecto importante a mencionar, es la estabilidad del método numérico. La estabilidad numérica es una propiedad de todo algoritmo empleado para la resolución numérica de un problema, nos dice acerca de como pequeñas modificaciones en los datos de entrada, se propagan a travez del algoritmo. Un método estable es aquel que tiende a atenuar los errores generados en el algoritmo, ya sea por truncamiento de los términos o por redondeo. Este último tipo de error surge del hecho de útilizar un número finito de cifras significativas para representar una valor numérico real, ya que las computadoras tienen memoria limitada, lo que las obliga a acotar el número de decimales empleados, por lo general tienen una precisión de 8 o 16 cifras. \n",
    "\n",
    "Por otra parte, un método inestable es aquel que con pequeñas modificaciones en los datos de entrada, los resultados cambian abruptamente, debido a que los errores generados se magnifican de forma descontrolada, inutilizando al método para el problema abordado. Un modo de saber si el método de interes es estable o no, es utilizando el número de condición conocido como CFL (por la abreviación de Courant, Friedrichs, Lewy).\n",
    "\n",
    "La diferencia entre el caso explícito e implícito se evidencia al reemplazar las discretizaciones respectivas de cada términos en la EDP. Antes de continuar, primero estableceremos una nueva nomenclatura para simplificar la terminología. Sea la temperatura de un nodo específico $T^{t}_{ijk}$, los subíndices $i,j,k$ referirán las coordenadas espaciales $x,y$ y $z$ respectivamente, y el superíndice $t$ para referir a un instante de tiempo determinado. \n",
    "\n",
    "#### Método de Euler Explícito\n",
    "Reemplazamos entonces los términos discretizados en la ecuación del calor, siendo posible visualizar como todas las cantidades se encuentran referidas a un mismo tiempo $t$, a excepción del primer término de la ecuación, referido en el tiempo $t+\\Delta t$.\n",
    "\n",
    "\\begin{equation}\n",
    "\\frac{1}{\\alpha}\\frac{T^{t+1}_{ij}-T^{t}_{ij}}{ \\Delta t} = \\frac{T^{t}_{i+1,j} - 2T^{t}_{ij}  + T^{t}_{i-1,j}}{\\Delta x^{2}} + \\frac{T^{t}_{i,j+1} - 2T^{t}_{ij}  + T^{t}_{i,j-1}}{\\Delta y^{2}}\n",
    "\\end{equation}\n",
    "\n",
    "Al aplicar esta metodología debemos considerar que la cantidad referida al tiempo $t+1$, es la variable desconocida y la obtendremos su valor despejandola a un lado de la ecuación e igualandola a una suma de todos los demás términos de la ecuación referidos al tiempo $t$, reiteramos que como condición estos térimnos deben ser valores conocidos. Considerando los pasos espaciales $\\Delta x$ y $\\Delta y$ iguales, obtenemos la siguiente expresión.\n",
    "\n",
    "\\begin{equation}\n",
    "T^{t+1}_{i,j} = (1 - \\frac{4\\alpha \\Delta t}{\\Delta x^{2}}) T^{t}_{i,j} + (\\frac{\\alpha \\Delta t}{\\Delta x^{2}})(T^{t}_{i+1,j}+T^{t}_{i-1,j}+T^{t}_{i,j+1}+T^{t}_{i,j-1})\n",
    "\\end{equation}\n",
    "\n",
    "Para la discretización presente, se obtiene un error de truncamiento igual a:\n",
    "\n",
    "\\begin{equation}\n",
    "error_{t} \\approx \\frac{1}{2!}\\frac{\\partial^2 T}{\\partial x^2}\\Delta x\n",
    "\\end{equation}\n",
    "\n",
    "Respecto a la estabilidad del método explícito aplicado a una ecuación del tipo parabólica, tenemos que el número de condición CFL esta dado para la difusión y debe cumplir lo siguiente.\n",
    "\n",
    "\\begin{equation}\n",
    "CFL \\rightarrow \\frac{\\alpha \\Delta t}{\\Delta x^{2}} < \\frac{1}{2}\n",
    "\\end{equation}\n",
    "\n",
    "La interpretación física de la condición CFL para difusión pura, es la razón entre la capacidad de propagar calor en un medio debido a la conducción térmica del material, respecto a la capacidad de almacenar calor en forma de energía térmica en el mismo medio. Esto se puede visualizar considerando que $\\alpha = \\frac{k}{\\rho c_{p}}$ tiene las siguientes mágnitudes físicas $[\\frac{m^{2}}{s}]$, ya que el término en el divisor tiene unidades de $\\rho c_{p} \\rightarrow [\\frac{J}{m^{3}K}]$ y consiguientemente la conductividad térmica en el númerador $k \\rightarrow [\\frac{W}{m K}]$.\n",
    "\n",
    "El hecho de que la condición $CFL<\\frac{1}{2}$, nos dice que la superficie abarcada por la difuminación de calor en el medio en un tiempo dado $\\alpha \\Delta t$, tiene que ser al menos la mitad de la superficie abarcada por el tamaño de la malla $\\Delta x^{2}$. De este modo aseguramos que con la resolución del tamaño de malla, logramos captar todo el fenómeno difusivo para un tiempo $\\Delta t$ y el tamaño de este queda acotado por la cantidad espacial $\\Delta x$. \n",
    "\n",
    "#### Método de Euler Implícito\n",
    "En el caso de la discretización implícita para el tiempo, tenemos todos los términos de la EDP referidos al tiempo $t$ y solo uno en el tiempo $t-1$, el cual debe ser conocido por la condición inicial. De este modo generamos una ecuación con un número finito de incognitas, que depende a su vez de los nodos vecinos considerados para la aproximación de las derivada y solo un valor conocido.\n",
    "\n",
    "\\begin{equation}\n",
    "\\frac{1}{\\alpha}\\frac{T^{t}_{ij}-T^{t-1}_{ij}}{ \\Delta t} = \\frac{T^{t}_{i+1,j} - 2T^{t}_{ij}  + T^{t}_{i-1,j}}{\\Delta x^{2}} + \\frac{T^{t}_{i,j+1} - 2T^{t}_{ij}  + T^{t}_{i,j-1}}{\\Delta y^{2}}\n",
    "\\end{equation}\n",
    "\n",
    "Para que este método sea resoluble, necesitamos un número de ecuaciones igual al número de incognitas, lo que nos lleva a plantear un sistema lineal de ecuaciones. El número de incognitas depende de la cantidad de nodos empleados para la discretización del dominio, en los que se evalúa la cantidad física para cada uno en el tiempo $t$, mientras que el número de ecuaciones se obtiene al aplicar la ecuación discretizada en cada nodo. De esta manera obtenemos un sitema lineal del tipo $A\\vec{x} = \\vec{b}$, donde $A$ es la matriz de iteración, $\\vec{x}$ es el vector conformado por todas las incognitas del problema y $\\vec{b}$ es el vector en el que se guardan todas las cantidades conocidas, ya sea por condiciones de borde o inicial.\n",
    "\n",
    "### Condiciones de Frontera del Problema\n",
    "\n",
    "##### Flujo de Calor Incidente \n",
    "En la frontera izquierda del dominio, se impone un flujo de calor incidente $\\dot{q_{in}}$ por unidad de superficie. Se asume que todo este calor entra al sistema, siendo conducido por el medio, por lo que se debe cumplir la igualdad $\\dot{q_{in}}=\\dot{q_{cond}}$. Sabemos que el flujo de calor conducido esta dado por la ley de Fourier y en ella aparece el gradiente de temperaturas, que para el presente caso aproximaremos a partir de las diferencias centradas vistas anteriormente.\n",
    "\n",
    "\\begin{equation}\n",
    "\\dot{q}_{cond} = -k \\frac{T^{t}_{2,j}-T^{t}_{0,j}}{2\\Delta x}\n",
    "\\end{equation}\n",
    "\n",
    "El término $T^{t}_{0,j}$, que surge de aplicar diferencias centradas en la frontera, se  dice que es ficticio, debido a que el nodo $(0,j)$ no pertenece al dominio definido. Una técnica denominada condensación del nodo ficticio nos permite reemplazarlo por los valores conocidos en nodos que sí son parte del dominio.\n",
    "\n",
    "\\begin{equation}\n",
    "T^{t}_{0,j} = T^{t}_{2,j} + (\\frac{2\\Delta x}{k})\\dot{q}_{in} \n",
    "\\end{equation}\n",
    "\n",
    "##### Flujo de Calor por Convección\n",
    "En todas las demas fronteras del dominio se aplicara esta condición, que como ya se menciono antes se rige por la ley de enfriamiento de Newton, igual que en el caso del flujo de calor ingresando al sistema, se asume que todo el calor conducido en la frontera es igual al calor que sale por convección $\\dot{q_{cond}}=\\dot{q_{conv}}$ y discretizaremos nuevamente el gradiente de temperaturas por diferencias centradas. Por motivos de simplificación la expresaremos únicamente para la frontera superior.\n",
    "\n",
    "\\begin{equation}\n",
    "\\dot{q}_{cond} = -k \\frac{T^{t}_{i,M+1}-T^{t}_{i,M-1}}{2\\Delta y}\n",
    "\\end{equation}\n",
    "\n",
    "\\begin{equation}\n",
    "\\dot{q}_{conv} = h_{conv}(T_{i,M}-T_{\\infty})\n",
    "\\end{equation}\n",
    "\n",
    "El término $T_{i,M}$ corresponde a la temperatura en la pared y $T_{\\infty}$ a la temperatura del flujo libre. En este caso el término ficticio es $T^{t}_{i,M+1}$ ya que el nodo en el cual es evaluado no se encuentra definido en el dominiod de trabajo. De igual modo que para la condición de frontera anterior, utilizaremos la técnica de condensación del nodo ficticio, igualando los flujos de calor y despejando el término deseado.\n",
    "\n",
    "\\begin{equation}\n",
    "T^{t}_{i,M+1} = T^{t}_{i,M-1} + (\\frac{2h\\Delta y}{k})(T_{\\infty}-T^{t}_{i,M})\n",
    "\\end{equation}\n",
    "\n",
    "### Generación de Matriz para Método Implícito\n",
    "En el caso de un problema en 2 dimensiones, al aplicar la discretización mencionada obtendremos 9 ecuaciones de estructuras distintas. Las 4 esquinas, los bordes superior e inferior más los bordes laterales, sin contar los nodos ubicados en las esquinas y por último el centro del dominio. Escribiremos las ecuaciones mencionadas a continuación.\n",
    "\n",
    "##### Esquina Inferior Izquierda\n",
    "\n",
    "$(4 + \\frac{\\Delta x^{2}}{\\alpha \\Delta t} + \\frac{2h\\Delta y}{k})T^{t}_{1,1} -2T^{t}_{2,1} - 2T^{t}_{1,2} = (\\frac{\\Delta x^{2}}{\\alpha \\Delta t})T^{t-1}_{1,1} + (\\frac{2\\Delta x}{k})\\dot{q}_{in} + (\\frac{2h\\Delta y}{k})T_{\\infty}$\n",
    "\n",
    "##### Borde Inferior \n",
    "$(2 \\leq i \\leq N-1)$\n",
    "\n",
    "$(4 + \\frac{\\Delta x^{2}}{\\alpha \\Delta t} + \\frac{2h\\Delta y}{k})T^{t}_{i,1} -T^{t}_{i+1,1} - T^{t}_{i-1,1}  - 2T^{t}_{i,2} = (\\frac{\\Delta x^{2}}{\\alpha \\Delta t})T^{t-1}_{i,1} + (\\frac{2h\\Delta y}{k})T_{\\infty}$\n",
    "\n",
    "##### Esquina Inferior Derecha\n",
    "\n",
    "$(4 + \\frac{\\Delta x^{2}}{\\alpha \\Delta t} + \\frac{2h\\Delta y}{k})T^{t}_{N,1} -2T^{t}_{N-1,1} - 2T^{t}_{N,2} = (\\frac{\\Delta x^{2}}{\\alpha \\Delta t})T^{t-1}_{N,1} + (\\frac{2h\\Delta x}{k})T_{\\infty}+ (\\frac{2h\\Delta y}{k})T_{\\infty}$\n",
    "\n",
    "##### Borde Lateral Izquierdo\n",
    "$(2 \\leq j \\leq M-1)$\n",
    "\n",
    "$(4 + \\frac{\\Delta x^{2}}{\\alpha \\Delta t})T^{t}_{1,j} -2T^{t}_{2,j} - T^{t}_{1,j+1} - T^{t}_{1,j-1}  = (\\frac{\\Delta x^{2}}{\\alpha \\Delta t})T^{t-1}_{1,j} + (\\frac{2\\Delta x}{k})\\dot{q}_{in}$\n",
    "\n",
    "##### Centro del Dominio\n",
    "$(2 \\leq i \\leq N-1)$\n",
    "\n",
    "$(2 \\leq j \\leq M-1)$\n",
    "\n",
    "$(4 + \\frac{\\Delta x^{2}}{\\alpha \\Delta t} + \\frac{2h\\Delta y}{k})T^{t}_{i,j} -T^{t}_{i+1,j} - T^{t}_{i-1,j}  - T^{t}_{i,j+1} + T^{t}_{i,j-1}= (\\frac{\\Delta x^{2}}{\\alpha \\Delta t})T^{t-1}_{i,j}$\n",
    "\n",
    "##### Borde Lateral Derecho\n",
    "$(2 \\leq j \\leq M-1)$\n",
    "\n",
    "$(4 + \\frac{\\Delta x^{2}}{\\alpha \\Delta t} + \\frac{2h\\Delta y}{k})T^{t}_{N,j} - 2T^{t}_{N-1,j} - T^{t}_{N,j+1}  - T^{t}_{N,j-1} = (\\frac{\\Delta x^{2}}{\\alpha \\Delta t})T^{t-1}_{N,j} + (\\frac{2h\\Delta x}{k})T_{\\infty}$\n",
    "\n",
    "#### Esquina Superior Izquierda\n",
    "\n",
    "$(4 + \\frac{\\Delta x^{2}}{\\alpha \\Delta t} + \\frac{2h\\Delta y}{k})T^{t}_{1,M} -2T^{t}_{2,M} - 2T^{t}_{1,M-1} = (\\frac{\\Delta x^{2}}{\\alpha \\Delta t})T^{t-1}_{1,M} + (\\frac{2\\Delta x}{k})\\dot{q}_{in} + (\\frac{2h\\Delta y}{k})T_{\\infty}$\n",
    "\n",
    "##### Borde Superior\n",
    "$(2 \\leq i \\leq N-1)$\n",
    "\n",
    "$(4 + \\frac{\\Delta x^{2}}{\\alpha \\Delta t} + \\frac{2h\\Delta y}{k})T^{t}_{i,M} -T^{t}_{i+1,M} - T^{t}_{i-1,M}  - 2T^{t}_{i,M-1} = (\\frac{\\Delta x^{2}}{\\alpha \\Delta t})T^{t-1}_{i,M} + (\\frac{2h\\Delta y}{k})T_{\\infty}$\n",
    "\n",
    "##### Esquina Superior Derecha\n",
    "\n",
    "$(4 + \\frac{\\Delta x^{2}}{\\alpha \\Delta t} + \\frac{2h\\Delta y}{k})T^{t}_{N,M} -2T^{t}_{N-1,M} - 2T^{t}_{N,M-1} = (\\frac{\\Delta x^{2}}{\\alpha \\Delta t})T^{t-1}_{N,M} + (\\frac{2h\\Delta x}{k})T_{\\infty}+ (\\frac{2h\\Delta y}{k})T_{\\infty}$\n"
   ]
  },
  {
   "cell_type": "markdown",
   "metadata": {},
   "source": [
    "## 3. Métodos Numérica para Resolución de un Sistema Lineal"
   ]
  },
  {
   "cell_type": "markdown",
   "metadata": {},
   "source": [
    "### Métodos Iterativos \n",
    "Existen 2 familias de métodos para resolver numéricamente un sistema lineal de ecuaciones, estos son métodos directos o por pivote y métodos iterativos. Para resolución de ecuaciones diferenciales parciales se utiliza comúnmente los métodos iterativos debido que los directos utilizan una gran cantidad de cálculos para obtener las matrices LU, y ya que en general el dominio sobre el cual se define la ecuación diferencial parcial puede llegar a tener cientos o miles de nodos, lo que significaría un costo computacional extremo para los métodos directos.\n",
    "\n",
    "Debido a lo anterior es que para resolver EDP se utilizan métodos iterativos que consisten en presentar un valor para cada incógnita inicial y luego el sistema va reproduciendo los cálculos tantas veces sea necesario hasta obtener un resultado final. \n",
    "\n",
    "Una condición necesaria es que la matriz de iteración sea convergente y una vez asegurado este hecho se puede evaluar los distintos métodos iterativos y ver cual converge más rápido a una solución final, siendo este el más adecuado para el problema.\n",
    "\n",
    "#### Método de Jacobi\n",
    "Este método consiste en despejar la variable desconocida que se ubica en la diagonal de la matriz, obteniendo un valor de esta a partir de los valores de las demás variables referidos a un tiempo anterior. Esto se hace con cada ecuación o fila de la matriz, una vez que se ha hecho para todas las filas se dice que se ha completado 1 iteración, luego se repite el proceso tantas veces como sea necesario. Matemáticamente el método de Jacobi se expresa como sigue.\n",
    "\n",
    "\\begin{equation}\n",
    "X^{k}_{i} = \\frac{1}{A_{ii}} \\left ( \\sum_{j=1 , j\\neq i}^{n} (-A_{ij} X^{k-1}_{j}) + b_{i} \n",
    " \\right )\n",
    "\\end{equation}\n",
    "\n",
    "#### Método de Gauss-Seidel\n",
    "Este método es una modificación del método de Jacobi, que consiste en usar las incógnitas ya calculadas, reemplazandolas en el cálculo de las variables restantes en una misma iteración. Más gráficamente, aquellas variables que se encuentran a la izquierda del elemento en la diagonal, se reemplazan por sus valores calculados recientemente en la misma iteración, mientras que los elementos a la derecha de la diagonal, se reemplazan por los valores obetenidos en la iteración anterior. Matemáticamente el método puede expresarse de la siguiente forma.\n",
    "\n",
    "\\begin{equation}\n",
    "X^{k}_{i} = \\frac{1}{A_{ii}} \\left ( \\sum_{j=1 , j\\neq i}^{i-1} (-A_{ij} X^{k}_{j}) + \\sum_{j=i+1}^{n} (-A_{ij} X^{k-1}_{j}) + b_{i} \n",
    " \\right )\n",
    "\\end{equation}\n",
    "\n",
    "Vemos que la primera sumatoria de la ecuación, el vector que almacena los elementos a la izquierda de la diagonal, se encuentra referido al proceso de iteración presente $X^{k}_{j}$. Mientras que los elementos del vector de la segunda iteración, correspondientes a los elementos ubicados a la derecha de la diagonal, refieren al proceso de iteración anterior al presente $X^{k-1}_{j}$."
   ]
  },
  {
   "cell_type": "code",
   "execution_count": 7,
   "metadata": {
    "collapsed": true
   },
   "outputs": [],
   "source": [
    "#Ecuaciones de Estado Prop. de un Gas Ideal (Denisdad y Coef. de Expansión)\n",
    "\n",
    "#Cálculo para Densidad de un Gas Ideal\n",
    "def rho_gas_ideal(rho_ideal, T, M_gas, R_univ, p_op):\n",
    "    rho_ideal = p_op*M_gas*10**(-3)/(R_univ*T_lab)\n",
    "    return rho_ideal\n",
    "\n",
    "#Coeficiente Expansión Volumétrica Betha\n",
    "def Betha_gas_ideal(Betha, T_prom):\n",
    "    Betha = 1 / T_prom\n",
    "    return Betha "
   ]
  },
  {
   "cell_type": "code",
   "execution_count": 8,
   "metadata": {
    "collapsed": false
   },
   "outputs": [],
   "source": [
    "#Definición Números Adimensionales para Convección Natural\n",
    "\n",
    "#Número de Grashof\n",
    "def Grashof(Gr, Betha, vis, T_wall, T_inf, g, D):\n",
    "    if T_inf > T_wall:\n",
    "        Gr = g*Betha*(T_inf - T_wall)*(D**3)/((vis*10**-6)**2)\n",
    "    else:\n",
    "        Gr = g*Betha*(T_wall - T_inf)*(D**3)/((vis*10**-6)**2)\n",
    "    return Gr\n",
    "\n",
    "#Número de Rayleigh\n",
    "def Rayleigh(Ra, Gr, Pr):\n",
    "    Ra = Gr*Pr\n",
    "    return Ra\n",
    "\n",
    "#Número de Nusselt Criterio de Morgan\n",
    "def Nu_Morgan_Cil(Nu, Ra, C, n):     \n",
    "    Nu = C*(Ra**n)\n",
    "    return Nu\n",
    "\n",
    "#Número de Nusselt Criterio de Churchill\n",
    "def Nu_Churchill_Cil(Nu, Ra, Pr):\n",
    "        a = 1./6.\n",
    "        b = 9./16.\n",
    "        c = 8./27.            \n",
    "        Nu = (0.6 + (0.387*Ra**a)/(1.+(0.559/Pr)**b)**c)**2               \n",
    "        return Nu\n",
    "\n",
    "#Coef. de Convección Natural para Cilíndros\n",
    "def coef_CN(h_conv, k, D, Nu):\n",
    "    h_conv = (k)*Nu*(10.**-3)/D\n",
    "    return h_conv"
   ]
  },
  {
   "cell_type": "code",
   "execution_count": 9,
   "metadata": {
    "collapsed": false
   },
   "outputs": [
    {
     "name": "stdout",
     "output_type": "stream",
     "text": [
      "Tabla: Prop. Termodinámicas del Aire.xls\n",
      "\n",
      "\n"
     ]
    }
   ],
   "source": [
    "#Lectura de Tabla: Prop. Termodináica del Aire\n",
    "import numpy as np\n",
    "\n",
    "import xlrd\n",
    "book = xlrd.open_workbook(\"Prop. Termodinámicas del Aire.xls\")\n",
    "#print \"The number of worksheets is\", book.nsheets\n",
    "#print \"Worksheet name(s):\", book.sheet_names()\n",
    "sh = book.sheet_by_index(0)\n",
    "#print sh.name, sh.nrows, sh.ncols\n",
    "#print \"Cell (2,0) is: \", sh.cell_value(rowx=2, colx=0)\n",
    "#for rx in range(7):\n",
    "#print sh.row(7)\n",
    "#print sh.col(2)\n",
    "\n",
    "T_tabla = np.zeros(21)\n",
    "rho_tabla = np.zeros(21)\n",
    "cp_tabla = np.zeros(21)\n",
    "vis_tabla = np.zeros(21)\n",
    "k_tabla = np.zeros(21)\n",
    "alpha_tabla = np.zeros(21)\n",
    "Pr_tabla = np.zeros(21)\n",
    "print \"Tabla: Prop. Termodinámicas del Aire.xls\"\n",
    "print\n",
    "#print \"    Temp[K]  Densidad[kg/m3]  Cp [kJ/kg·K]:\"\n",
    "print \n",
    "\n",
    "for i in range(8,29):\n",
    "    T_tabla[i-8] = sh.cell_value(i,1)\n",
    "    rho_tabla[i-8] = sh.cell_value(i,2)\n",
    "    cp_tabla[i-8] = sh.cell_value(i,3)\n",
    "    vis_tabla[i-8] = sh.cell_value(i,5)\n",
    "    k_tabla[i-8] = sh.cell_value(i,6)\n",
    "    alpha_tabla[i-8] = sh.cell_value(i,7)\n",
    "    Pr_tabla[i-8] = sh.cell_value(i,8)\n",
    "    \n",
    "    #print i-8,\"  \",T_tabla[i-8] ,\"     \", rho_tabla[i-8],\"        \",cp_tabla[i-8]"
   ]
  },
  {
   "cell_type": "code",
   "execution_count": 10,
   "metadata": {
    "collapsed": false
   },
   "outputs": [
    {
     "name": "stdout",
     "output_type": "stream",
     "text": [
      "Cte. Univ. de los Gases\n",
      "R = 8.314472 [J/K·mol]\n",
      "\n",
      "Composición de Gases Xi para Aire: \n",
      "X_ N2 = 0.7808\n",
      "X_ O2 = 0.2095\n",
      "X_ Ar = 0.0093\n",
      "X_ CO2 = 0.0004\n",
      "\n",
      "Peso Molar Aire:\n",
      "28.971155 [gr/mol]\n"
     ]
    }
   ],
   "source": [
    "#Composición del Aire\n",
    "#Definición Parámetros Físicos\n",
    "\n",
    "import numpy as np\n",
    "\n",
    "R_univ = 8.314472\n",
    "print \"Cte. Univ. de los Gases\"\n",
    "print \"R =\", R_univ,\"[J/K·mol]\"\n",
    "print\n",
    "\n",
    "#Composición de Mezcla de Gases\n",
    "prop_air = np.empty(4, dtype=object)\n",
    "\n",
    "prop_air[0] = np.array([\"N2\", 0.7808, 28.02])\n",
    "prop_air[1] = np.array([\"O2\", 0.2095, 32.0])\n",
    "prop_air[2] = np.array([\"Ar\", 0.0093, 39.95]) \n",
    "prop_air[3] = np.array([\"CO2\", 0.0004, 44.01]) \n",
    "\n",
    "x = np.zeros(4)\n",
    "M = np.zeros(4)\n",
    "\n",
    "print \"Composición de Gases Xi para Aire: \"\n",
    "for i in range(4):\n",
    "    x[i] = float(prop_air[i][1])\n",
    "    M[i] = float(prop_air[i][2])\n",
    "    print \"X_\",prop_air[i][0],\"=\",prop_air[i][1]\n",
    "    \n",
    "M_air = 0.\n",
    "for i in range(4):\n",
    "    M_air = M_air + x[i]*M[i]\n",
    "print\n",
    "print \"Peso Molar Aire:\"    \n",
    "print M_air,\"[gr/mol]\""
   ]
  },
  {
   "cell_type": "code",
   "execution_count": 12,
   "metadata": {
    "collapsed": false
   },
   "outputs": [
    {
     "name": "stdout",
     "output_type": "stream",
     "text": [
      " Condiciones Ambientales Laboratorio :\n",
      "Temperatura Ambiente = 300.0 [K]\n",
      "Presión Ambiente = 101325 [Pa] ó  1 [atm]\n",
      "Densidad Ambiente = 1.1769 [kg/m3]\n"
     ]
    }
   ],
   "source": [
    "#Condiciones Ambientales del Laboratorio\n",
    "p_op = 101325\n",
    "T_lab = 300.\n",
    "rho_lab = 1.\n",
    "\n",
    "rho_lab = rho_gas_ideal(rho_lab, T_lab, M_air, R_univ, p_op)\n",
    "print \"Condiciones Ambientales Laboratorio :\"\n",
    "print \"Temperatura Ambiente =\", T_lab, \"[K]\"\n",
    "print \"Presión Ambiente =\", p_op, \"[Pa] ó \", 1,\"[atm]\"\n",
    "print \"Densidad Ambiente =\", round(rho_lab,4), \"[kg/m3]\""
   ]
  },
  {
   "cell_type": "code",
   "execution_count": 13,
   "metadata": {
    "collapsed": false
   },
   "outputs": [
    {
     "name": "stdout",
     "output_type": "stream",
     "text": [
      "Propiedades Termodinámicas del Aire a  300.0 [K]\n",
      "\n",
      "Interpolación Lineal entre las filas: 7 y 8 con rango de T = [ 293.15 ; 303.15 ]\n",
      "\n",
      "rho = 1.231663 [kg/m3]\n",
      "cp = 1.007 [kJ/kg·K]\n",
      "vis = 15.783959 [m2/s]\n",
      "k = 25.6469 [W/m·K]\n",
      "alpha = 21.6458205 [m2/s]\n",
      "Pr = 0.732781 [-]\n"
     ]
    }
   ],
   "source": [
    "#Cálculo de Porp. Termodinámicas del Aire usando Talba bajo condiciones de Laboratorio\n",
    "print \"Propiedades Termodinámicas del Aire a \", T_lab, \"[K]\"\n",
    "print\n",
    "\n",
    "for i in range(20):\n",
    "\n",
    "    if T_lab == T_tabla[i]:\n",
    "        rho_lab = rho_tabla[i]\n",
    "        cp_lab = cp_tabla[i]\n",
    "        vis_lab = vis_tabla[i]\n",
    "        k_lab = k_tabla[i]\n",
    "        alpha_lab = alpha_tabla[i]\n",
    "        Pr_lab = Pr_tabla[i]\n",
    "        \n",
    "        print i\n",
    "        print \"rho =\", rho_lab,\"[kg/m3]\"\n",
    "        print \"cp =\", cp_lab, \"[kJ/kg·K]\"\n",
    "        print \"vis =\", vis_lab, \"[m2/s]\"\n",
    "        print \"k =\", k_lab, \"[W/m·K]\"\n",
    "        print \"alpha =\", alpha_lab, \"[m2/s]\"\n",
    "        print \"Pr =\" , Pr_lab, \"[-]\"\n",
    "    \n",
    "    elif T_lab > T_tabla[i] and T_lab < T_tabla[i+1]:\n",
    "        rho_lab = rho_tabla[i] + abs((T_lab - T_tabla[i])*(rho_tabla[i+1] - rho_tabla[i])/(T_tabla[i+1] - T_tabla[i]))\n",
    "        cp_lab = cp_tabla[i] + abs((T_lab - T_tabla[i])*(cp_tabla[i+1] - cp_tabla[i])/(T_tabla[i+1] - T_tabla[i]))\n",
    "        k_lab = k_tabla[i] + abs((T_lab - T_tabla[i])*(k_tabla[i+1] - k_tabla[i])/(T_tabla[i+1] - T_tabla[i]))\n",
    "        vis_lab = vis_tabla[i] + abs((T_lab - T_tabla[i])*(vis_tabla[i+1] - vis_tabla[i])/(T_tabla[i+1] - T_tabla[i]))\n",
    "        alpha_lab = alpha_tabla[i] + abs((T_lab - T_tabla[i])*(alpha_tabla[i+1] - alpha_tabla[i])/(T_tabla[i+1] - T_tabla[i]))\n",
    "        Pr_lab = Pr_tabla[i] + abs((T_lab - T_tabla[i])*(Pr_tabla[i+1] - Pr_tabla[i])/(T_tabla[i+1] - T_tabla[i]))\n",
    "        \n",
    "        print \"Interpolación Lineal entre las filas:\", i,\"y\", i+1,\"con rango de T = [\",T_tabla[i],\";\",T_tabla[i+1],\"]\"\n",
    "        print    \n",
    "        print \"rho =\", rho_lab,\"[kg/m3]\"\n",
    "        print \"cp =\", cp_lab, \"[kJ/kg·K]\"\n",
    "        print \"vis =\", vis_lab, \"[m2/s]\"\n",
    "        print \"k =\", k_lab, \"[W/m·K]\"\n",
    "        print \"alpha =\", alpha_lab, \"[m2/s]\"\n",
    "        print \"Pr =\" , Pr_lab, \"[-]\"\n",
    "        \n",
    "    #else:\n",
    "        #print \"La Temperatura de Laboratorio se encuentra fuera del rango para análisis\"\n",
    "        #print \"Rango de Temperatura = [223.15 ; 423.15][K]\"\n",
    "        #print \"Temperatura Laboratorio =\", T_lab, \"[K]\""
   ]
  },
  {
   "cell_type": "code",
   "execution_count": 16,
   "metadata": {
    "collapsed": false
   },
   "outputs": [
    {
     "name": "stdout",
     "output_type": "stream",
     "text": [
      "Coef. Expansión Volumétrica Betha = 0.0033 [1/K]\n",
      "Número de Prandlt Pr = 0.732781\n",
      "Número de Grashof Gr = 5.03505428326e+11\n",
      "Número de Rayleigh Ra = 3.68959211274e+11\n",
      "\n",
      "Criterio de Morgan :\n",
      "El número de Ra se encuentra dentro del rango: ] 10000000.0 ; 1e+12 [\n",
      "Coeficientes usados para cálculo de Nusselt son C = 0.125 y n = 0.333\n",
      "Número de Nusselt Nu = 888.6153\n",
      "Coef. de Convección Natural h_conv = 5.6976 [W/m2·K]\n",
      "\n",
      "Criterio de Churchill y Chu :\n",
      "Número de Nusselt Nu = 777.0372\n",
      "Coef. de Convección Natural h_conv = 4.9821 [W/m2·K]\n",
      "\n"
     ]
    }
   ],
   "source": [
    "#Cálculo Coeficiente de Convección Natural\n",
    "\n",
    "T_wall = 360.\n",
    "T_prom = 0.5*(T_wall + T_lab)\n",
    "\n",
    "g = 9.8\n",
    "D = 4.\n",
    "\n",
    "k = k_lab\n",
    "alpha = alpha_lab\n",
    "vis = vis_lab\n",
    "Pr = Pr_lab\n",
    "\n",
    "Betha = 1.\n",
    "Gr = 1.\n",
    "Ra = 1.\n",
    "Nu = 1.\n",
    "h_conv = 1.\n",
    "h_conv_ch = 1.\n",
    "\n",
    "Betha = Betha_gas_ideal(Betha, T_lab)\n",
    "Gr = Grashof(Gr, Betha, vis, T_wall, T_lab, g, D)\n",
    "Ra = Rayleigh(Ra, Gr, Pr)\n",
    "\n",
    "print \"Coef. Expansión Volumétrica Betha =\", round(Betha,4), \"[1/K]\"\n",
    "print \"Número de Prandlt Pr =\", round(Pr,12)\n",
    "print \"Número de Grashof Gr =\", round(Gr,12)\n",
    "print \"Número de Rayleigh Ra =\", round(Ra,12)\n",
    "print\n",
    "\n",
    "#Criterio de Morgan para Cilíndros (convección natural)\n",
    "print \"Criterio de Morgan :\"\n",
    "#Ra = 10.**11\n",
    "\n",
    "if Ra < 10**(-10):    \n",
    "    print \"El número de Ra =\",Ra, \"es menor al Límite Inferior del rango de operación para el criterio, Ra_min =\", 10**(-10.)\n",
    "    print \n",
    "elif Ra >= 10**12:\n",
    "    print \"El número de Ra =\",Ra, \"es mayor al Límite Superior del rango establecido para el criterio, Ra_max =\", 10**(12.)\n",
    "    print\n",
    "else:\n",
    "    if Ra < 10**(-2):\n",
    "        Ra_min = 10.**(-10.)\n",
    "        Ra_max = 10.**(-2.)\n",
    "        C = 0.675\n",
    "        n = 0.058\n",
    "    elif Ra < 10**2:\n",
    "        Ra_min = 10.**(-2.)\n",
    "        Ra_max = 10.**(2.)\n",
    "        C = 1.02\n",
    "        n = 0.148\n",
    "    elif Ra < 10**4:\n",
    "        Ra_min = 10.**(2.)\n",
    "        Ra_max = 10.**(4.)\n",
    "        C = 0.850\n",
    "        n = 0.188\n",
    "    elif Ra < 10**7:\n",
    "        Ra_min = 10.**(4.)\n",
    "        Ra_max = 10.**(7.)\n",
    "        C = 0.480\n",
    "        n = 0.250\n",
    "    elif Ra < 10**12:\n",
    "        Ra_min = 10.**(7.)\n",
    "        Ra_max = 10.**(12.)\n",
    "        C = 0.125\n",
    "        n = 0.333\n",
    "        \n",
    "    Nu = Nu_Morgan_Cil(Nu, Ra, C, n)\n",
    "    h_conv = coef_CN(h_conv, k, D, Nu)\n",
    "    \n",
    "    print \"El número de Ra se encuentra dentro del rango: ]\",Ra_min,\";\",Ra_max,\"[\"\n",
    "    print \"Coeficientes usados para cálculo de Nusselt son C =\", C, \"y n =\", n\n",
    "    print \"Número de Nusselt Nu =\", round(Nu,4)\n",
    "    print \"Coef. de Convección Natural h_conv =\", round(h_conv,4), \"[W/m2·K]\"\n",
    "    print\n",
    "\n",
    "#Criterio de Chrurchill y Chu para Cilíndros (convección natural)\n",
    "print \"Criterio de Churchill y Chu :\"\n",
    "\n",
    "if Ra < 10**(-5):\n",
    "    print \"El número de Ra =\",Ra, \"es menor al Límite Inferior del rango de operación para el criterio, Ra_min =\", 10**(-5.)\n",
    "    print\n",
    "elif Ra < 10**12:\n",
    "    Nu = Nu_Churchill_Cil(Nu, Ra, Pr)\n",
    "    h_conv_ch = coef_CN(h_conv, k, D, Nu)\n",
    "    print \"Número de Nusselt Nu =\", round(Nu,4)\n",
    "    print \"Coef. de Convección Natural h_conv =\", round(h_conv_ch,4), \"[W/m2·K]\"\n",
    "    print\n",
    "else:\n",
    "    print \"El número de Ra =\",Ra, \"es mayor al Límite Superior del rango establecido para el criterio, Ra_max =\", 10**(12.)                                                                                                                  \n",
    "    print  \n",
    "    \n"
   ]
  },
  {
   "cell_type": "code",
   "execution_count": 17,
   "metadata": {
    "collapsed": false
   },
   "outputs": [
    {
     "name": "stdout",
     "output_type": "stream",
     "text": [
      "Radio Crítico Aislante = 4.00789812169\n"
     ]
    }
   ],
   "source": [
    "#Cálculo Radio Crítico de Aislante para Cilíndro\n",
    "#Poliestireno Expandido (plumavit)\n",
    "k_ais = 0.045\n",
    "R_crit = k_ais / h_conv\n",
    "\n",
    "print \"Radio Crítico Aislante =\", D + R_crit"
   ]
  },
  {
   "cell_type": "code",
   "execution_count": 99,
   "metadata": {
    "collapsed": false
   },
   "outputs": [
    {
     "name": "stdout",
     "output_type": "stream",
     "text": [
      "ptos_Ra 1000.0\n",
      "delta_Ra 1000000000.0\n",
      "\n",
      "\n",
      "#X_h_Morgan = 1000\n",
      "#X_Ra = 1000\n",
      "\n"
     ]
    }
   ],
   "source": [
    "#Comparación de Criterios según Ra\n",
    "import numpy as np\n",
    "Pr = 0.73\n",
    "Ra = (10.)**-4\n",
    "ptos_Ra = 1000.\n",
    "L_sup_Ra = 10.**12\n",
    "L_inf_Ra = 10.**-5\n",
    "delta_Ra = (L_sup_Ra - L_inf_Ra)/ptos_Ra\n",
    "\n",
    "print \"ptos_Ra\", ptos_Ra\n",
    "print \"delta_Ra\", delta_Ra\n",
    "print \n",
    "\n",
    "X_Ra = np.zeros(int(ptos_Ra))\n",
    "X_Nu_Morgan = np.zeros(int(ptos_Ra))\n",
    "X_Nu_Churchill = np.zeros(int(ptos_Ra))\n",
    "X_h_Morgan = np.zeros(int(ptos_Ra))\n",
    "X_h_Churchill = np.zeros(int(ptos_Ra))\n",
    "\n",
    "print\n",
    "print \"#X_h_Morgan =\",len(X_h_Morgan)\n",
    "print \"#X_Ra =\", len(X_Ra)\n",
    "print\n",
    "\n",
    "aprox = np.empty(4,dtype=object)\n",
    "for m in range(0,4):\n",
    "    aprox[m] = np.zeros(int(ptos_Ra))\n",
    "\n",
    "for i in range(int(ptos_Ra)):\n",
    "    #print Ra\n",
    "    Ra_aux = Ra\n",
    "    X_Ra[i] = Ra_aux\n",
    "    #print Ra_aux\n",
    "#Criterio de Morgan para Cilíndros (convección natural) \n",
    "    #Nu = Nu_Morgan_Cil(Nu, X_Ra[i], C, n)\n",
    "    X_Nu_Morgan[i] = Nu_Morgan_Cil(Nu, X_Ra[i], C, n)\n",
    "    #Nu_aux = X_Nu_Morgan[i]\n",
    "    X_h_Morgan[i] = coef_CN(h_conv, k, D, X_Nu_Morgan[i])  \n",
    "    #X_h_Morgan[i] = (k)*Nu*(10.**-3)/D\n",
    "\n",
    "#Criterio de Chrurchill y Chu para Cilíndros (convección natural)\n",
    "    if Ra < 10**(-5):\n",
    "        X_Nu_Ch[i] = 0.              \n",
    "        X_h_conv_Ch[i] = 0.\n",
    "    elif Ra < 10**12:\n",
    "        X_Nu_Churchill[i] = Nu_Churchill_Cil(Nu, X_Ra[i], Pr)\n",
    "        X_h_Churchill[i] = coef_CN(h_conv, k, D, X_Nu_Churchill[i])\n",
    "    Ra = Ra_aux + delta_Ra \n",
    "    #print round(X_Nu_Morgan[i],4),\"  \" , round(X_Nu_Churchill[i],4),\"  \", round(X_h_Morgan[i],6),\"  \",round(X_h_Churchill[i],4)\n",
    "    #print Ra\n",
    "\n",
    "aprox[0] = X_Nu_Morgan\n",
    "aprox[1] = X_Nu_Churchill\n",
    "aprox[2] = X_h_Morgan\n",
    "aprox[3] = X_h_Churchill\n"
   ]
  },
  {
   "cell_type": "code",
   "execution_count": 94,
   "metadata": {
    "collapsed": false
   },
   "outputs": [
    {
     "data": {
      "text/plain": [
       "<matplotlib.text.Text at 0xb08148cc>"
      ]
     },
     "execution_count": 94,
     "metadata": {},
     "output_type": "execute_result"
    },
    {
     "data": {
      "image/png": "[encoded data removed]",
      "text/plain": [
       "<matplotlib.figure.Figure at 0xb07fc3ec>"
      ]
     },
     "metadata": {},
     "output_type": "display_data"
    }
   ],
   "source": [
    "#Gráfica Comparativa de Criterios\n",
    "import numpy as np\n",
    "from matplotlib import pyplot\n",
    "%matplotlib inline\n",
    "import matplotlib.pyplot as plt\n",
    "from matplotlib import rcParams\n",
    "rcParams['font.family'] = 'serif'\n",
    "rcParams['font.size'] = 12\n",
    "\n",
    "#color = np.empty(len(material), dtype=object):\n",
    "color = np.array(['r','c','g','b'])\n",
    "tipo_linea = np.array(['-','-','-','-'])\n",
    "name = np.array([\"Nu_Morgan\",\"Nu_Churchill\",\"h_Morgan\",\"h_Churchill\"])\n",
    "\n",
    "for m in range(0,2):\n",
    "    pyplot.plot(X_Ra, aprox[m], c=color[m],ls=tipo_linea[m],label=name[m])\n",
    "    \n",
    "pyplot.legend(loc='best',prop={'size':12})\n",
    "plt.title(u\"Nusselt vs Rayleigh\")\n",
    "plt.xlabel(\"Ra [-]\")\n",
    "plt.ylabel(u\"Nu [-]\")    \n"
   ]
  },
  {
   "cell_type": "code",
   "execution_count": 98,
   "metadata": {
    "collapsed": false
   },
   "outputs": [
    {
     "data": {
      "text/plain": [
       "<matplotlib.text.Text at 0xb03db1ec>"
      ]
     },
     "execution_count": 98,
     "metadata": {},
     "output_type": "execute_result"
    },
    {
     "data": {
      "image/png": "[encoded data removed]",
      "text/plain": [
       "<matplotlib.figure.Figure at 0xb03f18cc>"
      ]
     },
     "metadata": {},
     "output_type": "display_data"
    }
   ],
   "source": [
    "for m in range(2,4):\n",
    "    pyplot.plot(X_Ra, aprox[m], c=color[m],ls=tipo_linea[m],label=name[m])   \n",
    "#pyplot.plot(X_Ra, aprox[1] , c=color[1],ls=tipo_linea[1],label=name[1])\n",
    "    \n",
    "pyplot.legend(loc='best',prop={'size':12})\n",
    "plt.title(u\"Coef. de Convección vs Rayleigh\")\n",
    "plt.xlabel(\"Ra [-]\")\n",
    "plt.ylabel(u\"h  [W/m2·K]\")"
   ]
  },
  {
   "cell_type": "code",
   "execution_count": null,
   "metadata": {
    "collapsed": true
   },
   "outputs": [],
   "source": []
  }
 ],
 "metadata": {
  "kernelspec": {
   "display_name": "Python 2",
   "language": "python",
   "name": "python2"
  },
  "language_info": {
   "codemirror_mode": {
    "name": "ipython",
    "version": 2
   },
   "file_extension": ".py",
   "mimetype": "text/x-python",
   "name": "python",
   "nbconvert_exporter": "python",
   "pygments_lexer": "ipython2",
   "version": "2.7.10"
  }
 },
 "nbformat": 4,
 "nbformat_minor": 0
}
